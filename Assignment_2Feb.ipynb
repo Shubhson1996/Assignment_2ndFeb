{
 "cells": [
  {
   "attachments": {},
   "cell_type": "markdown",
   "metadata": {},
   "source": [
    "1.\n",
    "  for loops are used when you have a block of code which you want to repeat a fixed number of times. The for-loop is always used in combination with an iterable object, like a list or a range."
   ]
  },
  {
   "cell_type": "code",
   "execution_count": null,
   "metadata": {},
   "outputs": [],
   "source": [
    "#Example:\n",
    "L= [1,2,3,4,5,6]\n",
    "for i in L:\n",
    "    print(i)"
   ]
  },
  {
   "attachments": {},
   "cell_type": "markdown",
   "metadata": {},
   "source": [
    "while loop is used to run a block code until a certain condition is met. Here, A while loop evaluates the condition. If the condition evaluates to True , the code inside the while loop is executed.\n",
    "Example:"
   ]
  },
  {
   "cell_type": "code",
   "execution_count": null,
   "metadata": {},
   "outputs": [],
   "source": [
    "#Example:\n",
    "i= 1\n",
    "while i<=10:\n",
    "    print(i)\n",
    "    i=i+1"
   ]
  },
  {
   "cell_type": "code",
   "execution_count": null,
   "metadata": {},
   "outputs": [],
   "source": [
    "2.\n",
    "# Sum of first 10 natural numbers using for loop and while loop.\n",
    "sum=0\n",
    "for i in range(1,10+1):\n",
    "    sum=sum+i \n",
    "print(sum)"
   ]
  },
  {
   "cell_type": "code",
   "execution_count": null,
   "metadata": {},
   "outputs": [],
   "source": [
    "#Using while loop.\n",
    "sum=0\n",
    "i = 1\n",
    "while i <= 10:\n",
    "    sum= sum+ i\n",
    "    i= i+1\n",
    "sum"
   ]
  },
  {
   "cell_type": "code",
   "execution_count": null,
   "metadata": {},
   "outputs": [],
   "source": [
    "#Product of first 10 natural number using for and while loop.\n",
    "product=1\n",
    "for i in range(1,10+1):\n",
    "    product= product*i \n",
    "print(product)"
   ]
  },
  {
   "cell_type": "code",
   "execution_count": null,
   "metadata": {},
   "outputs": [],
   "source": [
    "#Using while loop.\n",
    "product=1\n",
    "i = 1\n",
    "while i <= 10:\n",
    "    product= product * i\n",
    "    i= i+1\n",
    "product"
   ]
  },
  {
   "cell_type": "code",
   "execution_count": null,
   "metadata": {},
   "outputs": [],
   "source": [
    "3.\n",
    "#The electricity bill for a household.\n",
    "units= int(input(\"Enter the units of electricity consumed in a month:\"))\n",
    "if units <= 100:\n",
    "    print(units*4.5)\n",
    "elif units > 100 and units <= 200:\n",
    "    print(100*4.5 + (units-100)*6)\n",
    "elif units >200 and units <=300:\n",
    "    print(100*4.5 + 100*6 + (units-200)*10)\n",
    "elif units >300:\n",
    "    print(100*4.5 + 100*6 + 100*10 + (units-300)*20)"
   ]
  },
  {
   "cell_type": "code",
   "execution_count": null,
   "metadata": {},
   "outputs": [],
   "source": [
    "4.\n",
    "#Using for loop. \n",
    "\n",
    "L1=[]\n",
    "L2=[]\n",
    "for i in (range(1,100+1)):\n",
    "    L1.append(i)\n",
    "    i=i**3\n",
    "    if i%4 == 0 or i%5 == 0: \n",
    "        L2.append(i)\n",
    "L1,L2"
   ]
  },
  {
   "cell_type": "code",
   "execution_count": null,
   "metadata": {},
   "outputs": [],
   "source": [
    "#Using while loop.\n",
    "\n",
    "L3=[]\n",
    "L4=[]\n",
    "cube=0\n",
    "j=1\n",
    "while j<=100:\n",
    "    L3.append(j)\n",
    "    cube=j**3\n",
    "    j+=1\n",
    "    if cube%4 == 0 or cube%5 == 0:\n",
    "        L4.append(cube)\n",
    "L3,L4\n"
   ]
  },
  {
   "cell_type": "code",
   "execution_count": null,
   "metadata": {},
   "outputs": [],
   "source": [
    "5.\n",
    "#Count Vowels.\n",
    " \n",
    "string= \"I want to become a data scientist\"\n",
    "count= 0\n",
    "for i in string:\n",
    "    if i ==\"a\" or i==\"e\"or i==\"i\" or i==\"I\" or i==\"o\" or i==\"u\":\n",
    "        count= count +1\n",
    "count"
   ]
  }
 ],
 "metadata": {
  "kernelspec": {
   "display_name": "Python 3",
   "language": "python",
   "name": "python3"
  },
  "language_info": {
   "codemirror_mode": {
    "name": "ipython",
    "version": 3
   },
   "file_extension": ".py",
   "mimetype": "text/x-python",
   "name": "python",
   "nbconvert_exporter": "python",
   "pygments_lexer": "ipython3",
   "version": "3.11.1"
  },
  "orig_nbformat": 4,
  "vscode": {
   "interpreter": {
    "hash": "6662073f3bde6be334dec329a6c9947da37b6bb749f0724ccca866176f72e3b8"
   }
  }
 },
 "nbformat": 4,
 "nbformat_minor": 2
}
